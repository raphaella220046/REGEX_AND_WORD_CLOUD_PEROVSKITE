{
 "cells": [
  {
   "cell_type": "code",
   "execution_count": 1,
   "id": "3102f4e3-d138-4ef6-a6d4-7163a12259b2",
   "metadata": {},
   "outputs": [
    {
     "name": "stderr",
     "output_type": "stream",
     "text": [
      "\n",
      "[notice] A new release of pip is available: 23.1.2 -> 24.0\n",
      "[notice] To update, run: python.exe -m pip install --upgrade pip\n"
     ]
    }
   ],
   "source": [
    "!pip install -U spacy==3.* -q"
   ]
  },
  {
   "cell_type": "code",
   "execution_count": 2,
   "id": "b50d4701-f478-4a8b-983e-6e9649477f7a",
   "metadata": {},
   "outputs": [
    {
     "name": "stdout",
     "output_type": "stream",
     "text": [
      "\u001b[1m"
     ]
    },
    {
     "name": "stderr",
     "output_type": "stream",
     "text": [
      "C:\\Program Files\\Python39\\lib\\site-packages\\requests\\__init__.py:102: RequestsDependencyWarning: urllib3 (1.26.6) or chardet (5.2.0)/charset_normalizer (2.0.4) doesn't match a supported version!"
     ]
    },
    {
     "name": "stdout",
     "output_type": "stream",
     "text": [
      "\n",
      "============================== Info about spaCy ==============================\u001b[0m\n",
      "\n",
      "spaCy version    3.7.4                         \n",
      "Location         C:\\Users\\raphaella220046\\AppData\\Roaming\\Python\\Python39\\site-packages\\spacy\n",
      "Platform         Windows-10-10.0.19042-SP0     "
     ]
    },
    {
     "name": "stderr",
     "output_type": "stream",
     "text": [
      "\n",
      "  warnings.warn(\"urllib3 ({}) or chardet ({})/charset_normalizer ({}) doesn't match a supported \"\n"
     ]
    }
   ],
   "source": [
    "!python -m spacy info"
   ]
  },
  {
   "cell_type": "code",
   "execution_count": 3,
   "id": "45b904cb-7ebb-47c5-9175-9b0a1f1f32f3",
   "metadata": {},
   "outputs": [
    {
     "name": "stdout",
     "output_type": "stream",
     "text": [
      "\n",
      "Python version   3.9.7                         \n",
      "Pipelines        en_core_web_sm (3.7.1)        \n",
      "\n"
     ]
    },
    {
     "name": "stderr",
     "output_type": "stream",
     "text": [
      "C:\\Program Files\\Python39\\lib\\site-packages\\requests\\__init__.py:102: RequestsDependencyWarning: urllib3 (1.26.6) or chardet (5.2.0)/charset_normalizer (2.0.4) doesn't match a supported version!\n",
      "  warnings.warn(\"urllib3 ({}) or chardet ({})/charset_normalizer ({}) doesn't match a supported \"\n"
     ]
    }
   ],
   "source": [
    "import spacy"
   ]
  },
  {
   "cell_type": "code",
   "execution_count": 4,
   "id": "5db3ad1a-c8de-4da5-9ef5-d269b651ec87",
   "metadata": {
    "tags": []
   },
   "outputs": [
    {
     "name": "stdout",
     "output_type": "stream",
     "text": [
      "Defaulting to user installation because normal site-packages is not writeable"
     ]
    },
    {
     "name": "stderr",
     "output_type": "stream",
     "text": [
      "C:\\Program Files\\Python39\\lib\\site-packages\\requests\\__init__.py:102: RequestsDependencyWarning: urllib3 (1.26.6) or chardet (5.2.0)/charset_normalizer (2.0.4) doesn't match a supported version!"
     ]
    },
    {
     "name": "stdout",
     "output_type": "stream",
     "text": [
      "\n",
      "Collecting en-core-web-sm==3.7.1\n",
      "  Downloading https://github.com/explosion/spacy-models/releases/download/en_core_web_sm-3.7.1/en_core_web_sm-3.7.1-py3-none-any.whl (12.8 MB)\n",
      "     ------------------------                 7.7/12.8 MB 14.1 MB/s eta 0:00:01\n"
     ]
    },
    {
     "name": "stderr",
     "output_type": "stream",
     "text": [
      "\n",
      "  warnings.warn(\"urllib3 ({}) or chardet ({})/charset_normalizer ({}) doesn't match a supported \"\n",
      "ERROR: Exception:\n",
      "Traceback (most recent call last):\n",
      "  File \"C:\\Users\\raphaella220046\\AppData\\Roaming\\Python\\Python39\\site-packages\\pip\\_vendor\\urllib3\\response.py\", line 438, in _error_catcher\n",
      "    yield\n",
      "  File \"C:\\Users\\raphaella220046\\AppData\\Roaming\\Python\\Python39\\site-packages\\pip\\_vendor\\urllib3\\response.py\", line 561, in read\n",
      "    data = self._fp_read(amt) if not fp_closed else b\"\"\n",
      "  File \"C:\\Users\\raphaella220046\\AppData\\Roaming\\Python\\Python39\\site-packages\\pip\\_vendor\\urllib3\\response.py\", line 527, in _fp_read\n",
      "    return self._fp.read(amt) if amt is not None else self._fp.read()\n",
      "  File \"C:\\Users\\raphaella220046\\AppData\\Roaming\\Python\\Python39\\site-packages\\pip\\_vendor\\cachecontrol\\filewrapper.py\", line 94, in read\n",
      "    self.__buf.write(data)\n",
      "  File \"C:\\Program Files\\Python39\\lib\\tempfile.py\", line 474, in func_wrapper\n",
      "    return func(*args, **kwargs)\n",
      "OSError: [Errno 28] No space left on device\n",
      "\n",
      "During handling of the above exception, another exception occurred:\n",
      "\n",
      "Traceback (most recent call last):\n",
      "  File \"C:\\Users\\raphaella220046\\AppData\\Roaming\\Python\\Python39\\site-packages\\pip\\_internal\\cli\\base_command.py\", line 169, in exc_logging_wrapper\n",
      "    status = run_func(*args)\n",
      "  File \"C:\\Users\\raphaella220046\\AppData\\Roaming\\Python\\Python39\\site-packages\\pip\\_internal\\cli\\req_command.py\", line 248, in wrapper\n",
      "    return func(self, options, args)\n",
      "  File \"C:\\Users\\raphaella220046\\AppData\\Roaming\\Python\\Python39\\site-packages\\pip\\_internal\\commands\\install.py\", line 377, in run\n",
      "    requirement_set = resolver.resolve(\n",
      "  File \"C:\\Users\\raphaella220046\\AppData\\Roaming\\Python\\Python39\\site-packages\\pip\\_internal\\resolution\\resolvelib\\resolver.py\", line 73, in resolve\n",
      "    collected = self.factory.collect_root_requirements(root_reqs)\n",
      "  File \"C:\\Users\\raphaella220046\\AppData\\Roaming\\Python\\Python39\\site-packages\\pip\\_internal\\resolution\\resolvelib\\factory.py\", line 491, in collect_root_requirements\n",
      "    req = self._make_requirement_from_install_req(\n",
      "  File \"C:\\Users\\raphaella220046\\AppData\\Roaming\\Python\\Python39\\site-packages\\pip\\_internal\\resolution\\resolvelib\\factory.py\", line 453, in _make_requirement_from_install_req\n",
      "    cand = self._make_candidate_from_link("
     ]
    }
   ],
   "source": [
    "!python -m spacy download en_core_web_sm"
   ]
  },
  {
   "cell_type": "code",
   "execution_count": 5,
   "id": "629eea95-0f3a-49d7-9521-bda0823dd3ca",
   "metadata": {
    "tags": []
   },
   "outputs": [
    {
     "name": "stderr",
     "output_type": "stream",
     "text": [
      "\n",
      "  File \"C:\\Users\\raphaella220046\\AppData\\Roaming\\Python\\Python39\\site-packages\\pip\\_internal\\resolution\\resolvelib\\factory.py\", line 206, in _make_candidate_from_link\n",
      "    self._link_candidate_cache[link] = LinkCandidate(\n",
      "  File \"C:\\Users\\raphaella220046\\AppData\\Roaming\\Python\\Python39\\site-packages\\pip\\_internal\\resolution\\resolvelib\\candidates.py\", line 293, in __init__\n",
      "    super().__init__(\n",
      "  File \"C:\\Users\\raphaella220046\\AppData\\Roaming\\Python\\Python39\\site-packages\\pip\\_internal\\resolution\\resolvelib\\candidates.py\", line 156, in __init__\n",
      "    self.dist = self._prepare()\n",
      "  File \"C:\\Users\\raphaella220046\\AppData\\Roaming\\Python\\Python39\\site-packages\\pip\\_internal\\resolution\\resolvelib\\candidates.py\", line 225, in _prepare\n",
      "    dist = self._prepare_distribution()\n",
      "  File \"C:\\Users\\raphaella220046\\AppData\\Roaming\\Python\\Python39\\site-packages\\pip\\_internal\\resolution\\resolvelib\\candidates.py\", line 304, in _prepare_distribution\n",
      "    return preparer.prepare_linked_requirement(self._ireq, parallel_builds=True)\n",
      "  File \"C:\\Users\\raphaella220046\\AppData\\Roaming\\Python\\Python39\\site-packages\\pip\\_internal\\operations\\prepare.py\", line 516, in prepare_linked_requirement\n",
      "    return self._prepare_linked_requirement(req, parallel_builds)\n",
      "  File \"C:\\Users\\raphaella220046\\AppData\\Roaming\\Python\\Python39\\site-packages\\pip\\_internal\\operations\\prepare.py\", line 587, in _prepare_linked_requirement\n",
      "    local_file = unpack_url(\n",
      "  File \"C:\\Users\\raphaella220046\\AppData\\Roaming\\Python\\Python39\\site-packages\\pip\\_internal\\operations\\prepare.py\", line 166, in unpack_url\n",
      "    file = get_http_url(\n",
      "  File \"C:\\Users\\raphaella220046\\AppData\\Roaming\\Python\\Python39\\site-packages\\pip\\_internal\\operations\\prepare.py\", line 107, in get_http_url\n",
      "    from_path, content_type = download(link, temp_dir.path)\n",
      "  File \"C:\\Users\\raphaella220046\\AppData\\Roaming\\Python\\Python39\\site-packages\\pip\\_internal\\network\\download.py\", line 147, in __call__\n",
      "    for chunk in chunks:\n",
      "  File \"C:\\Users\\raphaella220046\\AppData\\Roaming\\Python\\Python39\\site-packages\\pip\\_internal\\cli\\progress_bars.py\", line 53, in _rich_progress_bar\n",
      "    for chunk in iterable:\n",
      "  File \"C:\\Users\\raphaella220046\\AppData\\Roaming\\Python\\Python39\\site-packages\\pip\\_internal\\network\\utils.py\", line 63, in response_chunks\n",
      "    for chunk in response.raw.stream(\n",
      "  File \"C:\\Users\\raphaella220046\\AppData\\Roaming\\Python\\Python39\\site-packages\\pip\\_vendor\\urllib3\\response.py\", line 622, in stream\n",
      "    data = self.read(amt=amt, decode_content=decode_content)\n",
      "  File \"C:\\Users\\raphaella220046\\AppData\\Roaming\\Python\\Python39\\site-packages\\pip\\_vendor\\urllib3\\response.py\", line 587, in read\n",
      "    raise IncompleteRead(self._fp_bytes_read, self.length_remaining)\n",
      "  File \"C:\\Program Files\\Python39\\lib\\contextlib.py\", line 137, in __exit__\n",
      "    self.gen.throw(typ, value, traceback)\n",
      "  File \"C:\\Users\\raphaella220046\\AppData\\Roaming\\Python\\Python39\\site-packages\\pip\\_vendor\\urllib3\\response.py\", line 455, in _error_catcher\n",
      "    raise ProtocolError(\"Connection broken: %r\" % e, e)\n",
      "pip._vendor.urllib3.exceptions.ProtocolError: (\"Connection broken: OSError(28, 'No space left on device')\", OSError(28, 'No space left on device'))\n",
      "\n",
      "[notice] A new release of pip is available: 23.1.2 -> 24.0\n",
      "[notice] To update, run: python.exe -m pip install --upgrade pip\n"
     ]
    }
   ],
   "source": [
    "nlp = spacy.load('en_core_web_sm')"
   ]
  },
  {
   "cell_type": "code",
   "execution_count": 6,
   "id": "f649805a-0f0e-4b89-a238-ceb1f35df2b4",
   "metadata": {},
   "outputs": [
    {
     "data": {
      "text/plain": [
       "spacy.lang.en.English"
      ]
     },
     "execution_count": 6,
     "metadata": {},
     "output_type": "execute_result"
    }
   ],
   "source": [
    "type(nlp)"
   ]
  },
  {
   "cell_type": "code",
   "execution_count": 7,
   "id": "d040f067-8fd8-45c0-9d19-d8df0d644b50",
   "metadata": {},
   "outputs": [],
   "source": [
    "import os\n",
    "import pandas as pd\n",
    "import numpy as np\n",
    "from openpyxl import workbook\n",
    "from openpyxl import load_workbook\n",
    "import re\n",
    "from pathlib import Path\n",
    "import matplotlib.pyplot as plt\n",
    "import seaborn as sns\n",
    "from wordcloud import WordCloud\n",
    "from collections import defaultdict"
   ]
  },
  {
   "cell_type": "code",
   "execution_count": 8,
   "id": "439f44fa-7ded-49c6-bfa6-8f72ea184030",
   "metadata": {},
   "outputs": [
    {
     "name": "stdout",
     "output_type": "stream",
     "text": [
      "Já existem arquivos com a extensão .xlsx na pasta\n"
     ]
    }
   ],
   "source": [
    "# Defina o diretório onde estão localizados os arquivos .xls\n",
    "diretorio = 'xls_files/'\n",
    "\n",
    "# Liste todos os arquivos no diretório\n",
    "arquivos = os.listdir(diretorio)\n",
    "\n",
    "# Verifique se já existem arquivos com a extensão .xlsx na pasta\n",
    "if any(arquivo.endswith('.xlsx') for arquivo in arquivos):\n",
    "    print(\"Já existem arquivos com a extensão .xlsx na pasta\")\n",
    "else:\n",
    "    # Itere sobre cada arquivo\n",
    "    for arquivo in arquivos:\n",
    "        # Verifique se o arquivo é um arquivo .xls\n",
    "        if arquivo.endswith('.xls'):\n",
    "            # Carregue o arquivo .xls em um DataFrame usando o pandas\n",
    "            df = pd.read_excel(os.path.join(diretorio, arquivo))\n",
    "\n",
    "            # Defina o caminho para salvar o arquivo .xlsx com o mesmo nome, mas extensão .xlsx\n",
    "            novo_nome = os.path.splitext(arquivo)[0] + '.xlsx'\n",
    "            novo_caminho = os.path.join(diretorio, novo_nome)\n",
    "\n",
    "            # Salve o DataFrame como um arquivo .xlsx\n",
    "            df.to_excel(novo_caminho, index=False)\n",
    "\n",
    "            print(f'O arquivo {arquivo} foi convertido para {novo_nome}')"
   ]
  },
  {
   "cell_type": "code",
   "execution_count": 9,
   "id": "e12ce547-bd7f-4b38-8491-d221dc266600",
   "metadata": {},
   "outputs": [
    {
     "name": "stdout",
     "output_type": "stream",
     "text": [
      "['Perovskite and band gap 1-1000.xlsx', 'Perovskite and band gap 1001-2000.xlsx', 'Perovskite and band gap 2001-3000.xlsx', 'Perovskite and band gap 3001-4000.xlsx', 'Perovskite and band gap 4001-4796.xlsx', 'Perovskite and band gap.xlsx']\n"
     ]
    }
   ],
   "source": [
    "path = \"xls_files\"\n",
    "files = os.listdir(path)\n",
    "files_xlsx = [f for f in files if f[-4:] == 'xlsx']\n",
    "print(files_xlsx)"
   ]
  },
  {
   "cell_type": "code",
   "execution_count": 10,
   "id": "5acffcbe-757b-4555-b1bb-1acaef70095d",
   "metadata": {},
   "outputs": [],
   "source": [
    "df_list = []\n",
    "for f in files_xlsx:\n",
    "    data = pd.read_excel(os.path.join(path, f))\n",
    "    df_list.append(data)\n",
    "df = pd.concat(df_list)"
   ]
  },
  {
   "cell_type": "code",
   "execution_count": 11,
   "id": "b90f21c8-3469-4adf-bb7b-ede6887bdd3f",
   "metadata": {},
   "outputs": [
    {
     "name": "stdout",
     "output_type": "stream",
     "text": [
      "Já existe o arquivo na pasta\n"
     ]
    }
   ],
   "source": [
    "if \"Perovskite and band gap.xlsx\" in files_xlsx:\n",
    "    print(\"Já existe o arquivo na pasta\")\n",
    "else:\n",
    "    output_path = \"xls_files/Perovskite and band gap.xlsx\"\n",
    "    df.to_excel(output_path, index=False)"
   ]
  },
  {
   "cell_type": "code",
   "execution_count": 12,
   "id": "7bd66141-1398-497d-96d2-eeb5f7249789",
   "metadata": {},
   "outputs": [],
   "source": [
    "df_perovskite = pd.read_excel(\"xls_files/Perovskite and band gap.xlsx\")\n",
    "df_perovskite = df_perovskite.dropna(axis = 1, how = 'all')\n",
    "#print(df_perovskite)"
   ]
  },
  {
   "cell_type": "code",
   "execution_count": 13,
   "id": "588fde7b-5030-43ee-8ae2-2a8ec399af90",
   "metadata": {},
   "outputs": [
    {
     "name": "stdout",
     "output_type": "stream",
     "text": [
      "0       Lead-free double-perovskite nanocrystals (NCs)...\n",
      "1       Perovskite solar cells (PSCs) have attracted u...\n",
      "2       Perovskite-based double junction tandem solar ...\n",
      "3       Halide double perovskite has emerged as a nove...\n",
      "4       The desired morphology, narrowed band gap and ...\n",
      "                              ...                        \n",
      "4791    Recently, antimony selenide (Sb2Se3) has been ...\n",
      "4792    Compared with the first-generation semiconduct...\n",
      "4793    Semiconductor quantum dots (QDs) are nanocryst...\n",
      "4794    This review highlights the development of ener...\n",
      "4795    All-inorganic perovskite quantum dots have att...\n",
      "Name: Abstract, Length: 4796, dtype: string\n"
     ]
    }
   ],
   "source": [
    "#abstract = df_perovskite[\"Abstract\"].astype(str) #df_perovskite.iloc[:, 21]\n",
    "df_perovskite['Abstract'] = df_perovskite['Abstract'].astype(\"string\") #apply(str)\n",
    "print(df_perovskite['Abstract'])"
   ]
  },
  {
   "cell_type": "code",
   "execution_count": null,
   "id": "4be38dfc-1e61-4056-b696-8f3a1ae60fa9",
   "metadata": {},
   "outputs": [],
   "source": [
    "termo = 'band gap'\n",
    "\n",
    "palavra = \"eV\" or \"electron volt\"\n",
    "\n",
    "inicio = 0\n",
    "fim = len(df_perovskite['Abstract'])\n",
    "\n",
    "bg = []\n",
    "prvskt = []\n",
    "\n",
    "for abstract in df_perovskite['Abstract'][inicio:fim]:\n",
    "    sentenca = nlp(abstract)\n",
    "    abstract = []\n",
    "    band_gap = []\n",
    "    for sent in sentenca.sents:\n",
    "        abstract.append(sent)\n",
    "        if termo in str(sent):\n",
    "            matches = re.findall(r'(\\d+\\.\\d+?)\\s*' + re.escape(palavra), str(sent))\n",
    "            band_gap.append(matches)\n",
    "            for eV in band_gap:\n",
    "                for token in sent:\n",
    "                    if str(token) in eV:\n",
    "                        #\\b(?:[A-Z][a-z][A-Z]|[A-Z][A-Z]\\d|[A-Z][a-z]\\d|[A-Z]\\d[A-Z]|[A-Z]{3}\\d)\\w{3,}\\b|\\s(\\(([A-z]\\d.+?))\\s\n",
    "                        match = re.findall(r'\\b(?:[A-Z][a-z][A-Z]|[A-Z][A-Z]\\d|[A-Z][a-z]\\d|[A-Z]\\d[A-Z]|[A-Z]{3}\\d)\\w{3,}\\b', ' '.join(str(token) for token in sent))\n",
    "                        #print(eV, match)\n",
    "                        bg.append(eV)\n",
    "                        prvskt.append(match)\n",
    "                        \n",
    "print(len(bg))\n",
    "print(len(prvskt))"
   ]
  },
  {
   "cell_type": "code",
   "execution_count": null,
   "id": "7f0f4a1e-e8aa-44a0-a9f1-5428d1ce8db7",
   "metadata": {},
   "outputs": [],
   "source": [
    "band_gap = []\n",
    "perovskite = []\n",
    "                        \n",
    "for eV, item in zip(bg, prvskt):\n",
    "    if len(eV) == 1 and len(item) == 1:\n",
    "        band_gap.append(eV)\n",
    "        perovskite.append(item)\n",
    "        #print(band_gap, perovskite)\n",
    "        PEROVSKITE = [item[0] for item in perovskite]\n",
    "        BAND_GAP = [eV[0] for eV in band_gap]\n",
    "        tupla = list(zip(PEROVSKITE, BAND_GAP))\n",
    "        df = pd.DataFrame(tupla, columns=['Perovskite', 'Band gap (eV)'])\n",
    "        df.to_csv('Perovskite_bg.csv', sep=',', index=False, encoding='utf-8')\n",
    "        #print(df)\n",
    "\n",
    "print(band_gap)\n",
    "print()\n",
    "print(perovskite)"
   ]
  },
  {
   "cell_type": "code",
   "execution_count": null,
   "id": "5bfbce7f-55da-4230-898f-5eef5d6de981",
   "metadata": {},
   "outputs": [],
   "source": [
    "# Conjunto para rastrear os valores únicos em perovskite\n",
    "valores_unicos = set()\n",
    "\n",
    "# Listas para armazenar os valores filtrados\n",
    "novo_band_gap = []\n",
    "novo_perovskite = []\n",
    "\n",
    "# Itera sobre as listas band_gap e perovskite\n",
    "for eV, item in zip(band_gap, perovskite):\n",
    "    PEROVSKITE = [item[0] for item in perovskite]\n",
    "    BAND_GAP = [eV[0] for eV in band_gap]\n",
    "    # Critério de verificação para remover valores repetidos e que não contém um número\n",
    "    for eV, item in zip(BAND_GAP, PEROVSKITE):\n",
    "        if item not in valores_unicos and any(char.isdigit() and float(eV)<10 for char in item):\n",
    "            # Adiciona o item ao conjunto de valores únicos\n",
    "            valores_unicos.add(item)\n",
    "            # Adiciona os valores filtrados às novas listas\n",
    "            novo_band_gap.append(eV)\n",
    "            novo_perovskite.append(item)\n",
    "\n",
    "# Cria um DataFrame com os valores filtrados\n",
    "df = pd.DataFrame({'Perovskite': novo_perovskite, 'Band gap (eV)': novo_band_gap})\n",
    "\n",
    "# Salva o DataFrame em um arquivo CSV\n",
    "df.to_csv('Perovskite_bg_tratado.csv', sep=',', index=False, encoding='utf-8')"
   ]
  },
  {
   "cell_type": "code",
   "execution_count": null,
   "id": "e3e7d282-e927-45ef-86a7-61a024894cbe",
   "metadata": {
    "tags": []
   },
   "outputs": [],
   "source": [
    "# Busca de termo nos abstracts\n",
    "\n",
    "valor = 'CH3NH3PbI3'#'BiMnO3' #'C5N2H9' #'BaLa4Ti4O' #'PbBi2Nb2'\n",
    "\n",
    "coluna = 'Abstract'\n",
    "\n",
    "for resumo in df_perovskite[coluna][inicio:fim]:\n",
    "    if valor in resumo:#busca == True:\n",
    "        print(resumo)"
   ]
  },
  {
   "cell_type": "code",
   "execution_count": null,
   "id": "371facea-4881-4b81-be66-d37e2725d450",
   "metadata": {},
   "outputs": [],
   "source": [
    "df_pbg = pd.read_csv('Perovskite_bg_tratado.csv', sep=',')\n",
    "print(df_pbg.shape)\n",
    "df_pbg.head(10)"
   ]
  },
  {
   "cell_type": "code",
   "execution_count": null,
   "id": "877e8358-dee3-487a-b3ef-3efe9173417a",
   "metadata": {},
   "outputs": [],
   "source": [
    "value_min = min(df_pbg['Band gap (eV)'])\n",
    "element_min = df_pbg.loc[df_pbg['Band gap (eV)'] == value_min, 'Perovskite'].item()\n",
    "print(f'{value_min} eV {element_min}')\n",
    "value_max = max(df_pbg['Band gap (eV)'])\n",
    "element_max = df_pbg.loc[df_pbg['Band gap (eV)'] == value_max, 'Perovskite'].item()\n",
    "print(f'{value_max} eV {element_max}')"
   ]
  },
  {
   "cell_type": "code",
   "execution_count": null,
   "id": "66aac442-d8e6-4e3d-b029-6b401fb846d2",
   "metadata": {},
   "outputs": [],
   "source": [
    "df_pbg['Band gap (eV)'] = df_pbg['Band gap (eV)'].astype(float)\n",
    "df_pbg['Band gap (eV)'] = pd.to_numeric(df_pbg['Band gap (eV)'], errors='coerce')\n",
    "df_pbg = df_pbg.sort_values(by='Band gap (eV)')\n",
    "\n",
    "# Plotagem do gráfico\n",
    "plt.rcParams['font.family'] = 'Verdana'\n",
    "plt.figure(figsize=(20, 40))\n",
    "plt.plot(df_pbg['Band gap (eV)'], df_pbg['Perovskite'], marker='o', color='green')\n",
    "plt.xlabel('Band gap (eV)', size=25)\n",
    "plt.ylabel('Perovskite', size=25)\n",
    "plt.title('Distribuição de Band gap por Perovskite', size=30)\n",
    "plt.xticks(rotation=0)\n",
    "plt.tick_params(labelsize=15)\n",
    "plt.rcParams['legend.fontsize'] = 15\n",
    "#plt.grid()\n",
    "#plt.legent()\n",
    "plt.tight_layout()\n",
    "plt.show()\n",
    "#plt.savefig('...')"
   ]
  },
  {
   "cell_type": "code",
   "execution_count": null,
   "id": "43fa6e00-9bfd-46d6-85f0-80e655df9c85",
   "metadata": {},
   "outputs": [],
   "source": [
    "counts, bins = np.histogram(df_pbg['Band gap (eV)'])\n",
    "plt.hist(bins[:-1], bins, weights=counts)\n",
    "\n",
    "# Plotagem do histograma\n",
    "plt.figure(figsize=(10, 10))\n",
    "sns.histplot(df_pbg['Band gap (eV)'], kde=True, color='blue', bins=10)  # O argumento 'kde=True' adiciona a curva de densidade\n",
    "plt.xlabel('Band gap (eV)', size=20)\n",
    "plt.ylabel('Frequência (%)', size=20)\n",
    "plt.title('Bang gap de perovskitas', size=30)\n",
    "plt.tick_params(labelsize=20)\n",
    "plt.savefig('Histogram perovskite band gap', dpi=300)\n",
    "\n",
    "print(\"média\")\n",
    "print(np.mean(df_pbg['Band gap (eV)']))\n",
    "print(\"desvio padrão\")\n",
    "print(np.std(df_pbg['Band gap (eV)']))\n",
    "print(\"mínimo\")\n",
    "print(np.min(df_pbg['Band gap (eV)']))\n",
    "print(\"máximo\")\n",
    "print(np.max(df_pbg['Band gap (eV)']))"
   ]
  },
  {
   "cell_type": "code",
   "execution_count": null,
   "id": "6781d5a2-8198-4739-8f99-b75766f30abd",
   "metadata": {},
   "outputs": [],
   "source": [
    "# Dicionário para armazenar a contagem de cada palavra\n",
    "contagem_palavras = defaultdict(int)\n",
    "\n",
    "# Iterar sobre cada abstract em df_perovskite['Abstract']\n",
    "for abstract in df_perovskite['Abstract']:\n",
    "    # Criar um conjunto de palavras únicas no abstract para contar apenas uma vez por abstract\n",
    "    palavras_abstract = set(abstract.split())\n",
    "    \n",
    "    # Iterar sobre cada palavra em df_pbg['Perovskite']\n",
    "    for palavra in df_pbg['Perovskite']:\n",
    "        # Verificar se a palavra está presente no abstract\n",
    "        if palavra in palavras_abstract:\n",
    "            # Incrementar a contagem da palavra\n",
    "            contagem_palavras[palavra] += 1\n",
    "            \n",
    "palavras = list(contagem_palavras.keys())\n",
    "print(contagem_palavras)\n",
    "print()\n",
    "print(palavras)"
   ]
  },
  {
   "cell_type": "code",
   "execution_count": null,
   "id": "8663e858-fc48-4ae4-b89d-3e1c37c88d73",
   "metadata": {},
   "outputs": [],
   "source": [
    "def plot_cloud(wordcloud):\n",
    "    plt.figure(figsize=(40, 30))  \n",
    "    plt.imshow(wordcloud)   \n",
    "    plt.axis(\"off\")\n",
    "    \n",
    "# Configura os parâmetros gráficos do wordcloud (dimensões, cores), gera e salva como imagem\n",
    "wordcloud = WordCloud(width = 3000, height = 2000, random_state=1, background_color='black', colormap='Pastel1', collocations=False).generate(str(df_word_counts))  \n",
    "plot_cloud(wordcloud)\n",
    "plt.savefig('WORDCLOUD-PCD.png')"
   ]
  }
 ],
 "metadata": {
  "kernelspec": {
   "display_name": "Python 3 (ipykernel)",
   "language": "python",
   "name": "python3"
  },
  "language_info": {
   "codemirror_mode": {
    "name": "ipython",
    "version": 3
   },
   "file_extension": ".py",
   "mimetype": "text/x-python",
   "name": "python",
   "nbconvert_exporter": "python",
   "pygments_lexer": "ipython3",
   "version": "3.9.7"
  }
 },
 "nbformat": 4,
 "nbformat_minor": 5
}
